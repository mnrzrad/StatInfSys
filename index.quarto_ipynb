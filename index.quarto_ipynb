{
 "cells": [
  {
   "cell_type": "markdown",
   "id": "1933ef4d",
   "metadata": {},
   "source": [
    "---\n",
    "filters:\n",
    "  - webr\n",
    "---\n",
    "\n",
    "# Prerequisites {.unnumbered}\n",
    "\n",
    "This is a Quarto book.\n",
    "\n",
    "To learn more about Quarto books visit <https://quarto.org/docs/books>.\n",
    "\n",
    "```{webr}\n",
    "1 + 1\n",
    "```\n",
    "\n",
    "### Exercise 1\n",
    "Calculate the average of all the integers in the vector defined as the variable `foo`.\n",
    "\n",
    "```{webr}\n",
    "#| exercise: ex_1\n",
    "______(foo)\n",
    "```"
   ]
  }
 ],
 "metadata": {
  "kernelspec": {
   "display_name": "Python 3 (ipykernel)",
   "language": "python",
   "name": "python3",
   "path": "C:\\Users\\minan\\AppData\\Roaming\\Python\\share\\jupyter\\kernels\\python3"
  },
  "language_info": {
   "codemirror_mode": {
    "name": "ipython",
    "version": 3
   },
   "file_extension": ".py",
   "mimetype": "text/x-python",
   "name": "python",
   "nbconvert_exporter": "python",
   "pygments_lexer": "ipython3",
   "version": "3.13.4"
  }
 },
 "nbformat": 4,
 "nbformat_minor": 5
}
